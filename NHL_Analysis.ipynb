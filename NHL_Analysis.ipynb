{
 "cells": [
  {
   "cell_type": "markdown",
   "id": "99818e7f",
   "metadata": {},
   "source": [
    "Abstract: This program is created to use statistics to analyze the difference in team and league performance in the NHL when a team plays at home versus on the Road. This document serves as both an explanation of the methodology and programming, as well as the analysis of the computed data."
   ]
  },
  {
   "cell_type": "markdown",
   "id": "1b26688a",
   "metadata": {},
   "source": [
    "Below are the import statements utilized. The Pandas library is imporant as it allows for use of data frames, series, as well as the statistical functions. The NumPY library allows for further statistical analysis. the matplotlib library will allow me to create bar graphs to visualize the difference between home and away stats. NOTE: The code was origionally written in python without the utilization of any non standard python libraries and then rewritten and optimized using the Pandas Library. This can be found on my GitHub:  "
   ]
  },
  {
   "cell_type": "code",
   "execution_count": null,
   "id": "c8b95b0a",
   "metadata": {},
   "outputs": [],
   "source": [
    "import numpy as np\n",
    "import pandas as pd\n",
    "import matplotlib.pyplot as plt"
   ]
  },
  {
   "cell_type": "markdown",
   "id": "4b016dd6",
   "metadata": {},
   "source": [
    "I created a web scraping script in Python that scrapes data from every NHL game during the 2021-2022 season up until 4/2/2 of the 2023-2024 season. This is an imperitive step as the NHL does not provide an API. The BeautifulSoup library was crucial to scrape the data from the NHL historical stats website. After the script is done, it creates a csv with all the data that was collected. This code can be found on my GitHub in the file named \"Data_Collection.py\"."
   ]
  },
  {
   "cell_type": "markdown",
   "id": "5519e201",
   "metadata": {},
   "source": [
    "The function below titled, read_file, reads in the csv mentioned above, and creates a data frame of the data. This is one of the key uses of the Pandas library in this project."
   ]
  },
  {
   "cell_type": "code",
   "execution_count": null,
   "id": "8a0e59af",
   "metadata": {},
   "outputs": [],
   "source": [
    "def read_file(file):\n",
    "    df = pd.read_csv(file)\n",
    "    return df"
   ]
  },
  {
   "cell_type": "markdown",
   "id": "ea11cdeb",
   "metadata": {},
   "source": [
    "The code below reads calls read_file to create the data frame, cleans the data frame and removes any invalid data. An example of this is \"--\" in the ot column that reads a 1 if the game went to overtime, and \"--\" if it did not. Additionally I remove the index column that was on the NHL website when it was scraped. This is unnecessary as the pandas data frame adds its own indexes."
   ]
  },
  {
   "cell_type": "code",
   "execution_count": null,
   "metadata": {},
   "outputs": [],
   "source": [
    "df = read_file('Regular_Season_Table.csv')\n",
    "df.replace('--', 0, inplace=True)\n",
    "df.drop('Unnamed: 0', axis=1, inplace=True)\n",
    "float_columns = df.select_dtypes(include='float')\n",
    "df[float_columns.columns] = float_columns.apply(pd.to_numeric)\n",
    "#Prints the cleaned up table\n",
    "team_arr = df['team'].unique().tolist()\n",
    "print(team_arr)\n",
    "print(df.to_string())"
   ]
  },
  {
   "cell_type": "markdown",
   "id": "eaca0f97",
   "metadata": {},
   "source": [
    "The code below filters through the data frame and puts all of the data from home games in its own data frame. This is done by looking for dates that contain 'vs'."
   ]
  },
  {
   "cell_type": "code",
   "execution_count": null,
   "id": "0b211283",
   "metadata": {},
   "outputs": [],
   "source": [
    "home_df = df.loc[df['date'].str.contains('vs')]\n",
    "print(home_df.to_string())"
   ]
  },
  {
   "cell_type": "markdown",
   "id": "757d38da",
   "metadata": {},
   "source": [
    "The code below filters through the data frame and puts all of the data from away games in its own data frame. This is done by looking for dates that contain '@'."
   ]
  },
  {
   "cell_type": "code",
   "execution_count": null,
   "id": "bda12ea8",
   "metadata": {},
   "outputs": [],
   "source": [
    "away_df = df.loc[df['date'].str.contains('@')]\n",
    "print(away_df.to_string())"
   ]
  },
  {
   "cell_type": "markdown",
   "id": "ae96b053",
   "metadata": {},
   "source": [
    "The code below calculates the mean and standard deviation for each NHL team when they play at home."
   ]
  },
  {
   "cell_type": "code",
   "execution_count": null,
   "id": "ce042d98",
   "metadata": {},
   "outputs": [],
   "source": [
    "num_columns = home_df.select_dtypes(include=['int', 'float']).columns.tolist()\n",
    "home_Stats = home_df\n",
    "home_means = home_Stats.groupby(['team'])[num_columns].mean()\n",
    "home_stds = home_Stats.groupby(['team'])[num_columns].std()\n",
    "#print(home_means.to_string())\n",
    "print(home_stds.to_string())"
   ]
  },
  {
   "cell_type": "markdown",
   "metadata": {},
   "source": [
    "The code below calculates the mean for each NHL team when they play away on the road."
   ]
  },
  {
   "cell_type": "code",
   "execution_count": null,
   "id": "333e9153",
   "metadata": {},
   "outputs": [],
   "source": [
    "num_columns = away_df.select_dtypes(include=['int', 'float']).columns.tolist()\n",
    "away_Stats = away_df\n",
    "away_means = away_Stats.groupby(['team'])[num_columns].mean()\n",
    "away_stds = away_Stats.groupby(['team'])[num_columns].std()\n",
    "#print(away_means.to_string())\n",
    "print(away_stds.to_string())"
   ]
  },
  {
   "cell_type": "markdown",
   "id": "76b97d35",
   "metadata": {},
   "source": [
    "The code below creates a table to compare a home mean and standard deviation to the same team's road mean and standard deviation."
   ]
  },
  {
   "cell_type": "code",
   "execution_count": null,
   "id": "3b089ee6",
   "metadata": {},
   "outputs": [],
   "source": [
    "home_means.reset_index(inplace=True)\n",
    "home_stds.reset_index(inplace=True)\n",
    "away_means.reset_index(inplace=True)\n",
    "away_stds.reset_index(inplace=True)\n",
    "num_columns.remove('ot')\n",
    "mean_difference_df = home_means[num_columns].sub(away_means[num_columns])\n",
    "std_difference_df =  home_means[num_columns].sub(away_stds[num_columns])\n",
    "mean_difference_df.insert(0, 'teams', team_arr)\n",
    "std_difference_df.insert(0, 'teams', team_arr)\n",
    "print(mean_difference_df.to_string())\n",
    "print(std_difference_df.to_string())"
   ]
  },
  {
   "cell_type": "markdown",
   "id": "5c47b69b",
   "metadata": {},
   "source": [
    "Create a bar graph of every stat"
   ]
  },
  {
   "cell_type": "code",
   "execution_count": null,
   "id": "45f496db",
   "metadata": {},
   "outputs": [],
   "source": [
    "for i in range(len(num_columns)):\n",
    "    mean_difference_df.plot.bar(x='teams', y=num_columns[i], title=\"Difference mean of \" + num_columns[i])\n",
    "    plt.show(block=True)"
   ]
  },
  {
   "cell_type": "markdown",
   "id": "b3e052cd",
   "metadata": {},
   "source": []
  }
 ],
 "metadata": {
  "kernelspec": {
   "display_name": "Python 3 (ipykernel)",
   "language": "python",
   "name": "python3"
  },
  "language_info": {
   "codemirror_mode": {
    "name": "ipython",
    "version": 3
   },
   "file_extension": ".py",
   "mimetype": "text/x-python",
   "name": "python",
   "nbconvert_exporter": "python",
   "pygments_lexer": "ipython3",
   "version": "3.12.1"
  }
 },
 "nbformat": 4,
 "nbformat_minor": 5
}
