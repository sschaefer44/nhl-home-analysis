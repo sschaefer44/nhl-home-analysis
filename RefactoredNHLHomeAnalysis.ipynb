{
 "cells": [
  {
   "cell_type": "code",
   "execution_count": 1,
   "metadata": {},
   "outputs": [],
   "source": [
    "#Imports and Data Cleaning\n",
    "import pandas as pd\n",
    "import numpy as np\n",
    "\n",
    "#Read in CSV\n",
    "df = pd.read_csv('Regular_Season_Table.csv', low_memory= False)\n",
    "#Drop NHL.com's index column\n",
    "df.drop('Unnamed: 0', axis=1, inplace=True)\n",
    "\n",
    "\n",
    "# Sort the data frame by date to see what the most recent game data\n",
    "df_sorted = df.sort_values(by='date', ascending=True)\n",
    "\n",
    "#Read in Excel files of the missing 2 weeks of data\n",
    "df1 = pd.read_excel('Summary (13).xlsx')\n",
    "df2 = pd.read_excel('Summary (14).xlsx')\n",
    "df3 = pd.read_excel('Summary (15).xlsx')\n",
    "\n",
    "#Concantonate the 3 excel files into 1 file that is to be appended to the full dataset\n",
    "ndDF = pd.concat([df1, df2, df3], ignore_index=True)\n",
    "\n",
    "#Drop unnecessary columns that are not present in the old data\n",
    "colsToDrop = ['GP', 'T', 'P%', 'GF/GP', 'GA/GP']\n",
    "for col in colsToDrop:\n",
    "    ndDF.drop(col, axis = 1, inplace = True)\n",
    "\n",
    "# Rename columns to make them clearer\n",
    "cols = ndDF.columns\n",
    "df_sorted.columns = cols\n",
    "\n",
    "# Change date format to YYYY/MM/DD\n",
    "ndDF['Game Date'] = pd.to_datetime(ndDF['Game Date'])\n",
    "\n",
    "ndDF['Game Date'] = ndDF['Game Date'].dt.strftime('%Y/%m/%d')\n",
    "\n",
    "# Concantonate the partial DF to the full DF\n",
    "fulldf = pd.concat([df_sorted, ndDF], ignore_index=True)\n",
    "fulldf.replace({'--': 0, 'NA': 0, np.nan: 0}, inplace=True)"
   ]
  },
  {
   "cell_type": "code",
   "execution_count": 2,
   "metadata": {},
   "outputs": [],
   "source": [
    "# homeAway function to determine if a game is played at home or away. In the case of ~30 rows where it can't be\n",
    "# determined (due to a data source format change that occured after most of the data had been collected), the row \n",
    "#is dropped to avoid false and inaccurate assumptions.\n",
    "def homeAway(df, GameColumn, WinColumn, RWColumn, newRow):\n",
    "    is_away = df[GameColumn].str.contains('@')\n",
    "    is_home = df[GameColumn].str.contains('vs')\n",
    "    \n",
    "    # Create new row\n",
    "    df[newRow] = pd.NA\n",
    "    \n",
    "    # Sets values of home or away column based on '@' or 'vs' substring\n",
    "    df.loc[is_away, newRow] = 0  # Away games\n",
    "    df.loc[is_home, newRow] = 1   # Home games\n",
    "    \n",
    "    # Handles the condition that neither '@' or 'vs' are present. New data does not contain indication of home or\n",
    "    # away due to NHL website changes. Approximately 96 rows are missing '@' and 'vs'\n",
    "    mask = ~is_away & ~is_home\n",
    "    \n",
    "    # Checks if there was a win. If there was a win and RW is 1, then it was a road win. If there is a win but not\n",
    "    # a RW then it is a home win. If it doesnt have a 1 in the Win column, it needs to be dropped.\n",
    "    df.loc[mask & (df[WinColumn] == 1) & (df[RWColumn] == 1), newRow] = 0  # Win by home team\n",
    "    df.loc[mask & (df[WinColumn] == 1) & (df[RWColumn] == 0), newRow] = 1  # Win by away team\n",
    "    \n",
    "    # Drop rows that do not meet any conditions\n",
    "    df.dropna(subset=[newRow], inplace=True)\n",
    "\n",
    "    return df\n",
    "\n",
    "# run the homeAway function on the complete dataframe (fulldf) and update fulldf to include a column\n",
    "# with a 1 if it is home, and a 0 if it is away.\n",
    "fulldf = homeAway(fulldf, 'Game Date', 'W', 'RW', 'Home/Away')\n"
   ]
  },
  {
   "cell_type": "code",
   "execution_count": 3,
   "metadata": {},
   "outputs": [],
   "source": [
    "# Filter fulldf into a home game dataframe and an away game dataframe based on the column created by the \n",
    "# homeAway function.\n",
    "homeGamesDF = fulldf[fulldf['Home/Away'] == 1]\n",
    "awayGamesDF = fulldf[fulldf['Home/Away'] == 0]\n"
   ]
  },
  {
   "cell_type": "code",
   "execution_count": 4,
   "metadata": {},
   "outputs": [],
   "source": [
    " # Group by team column and aggregate columns by the appropriate formula\n",
    "def aggregation(df):\n",
    "    aggregated_df = df.groupby('Team').agg({\n",
    "        'W': 'sum',\n",
    "        'L': 'sum',\n",
    "        'OT': 'sum',\n",
    "        'P': 'sum',\n",
    "        'RW': 'sum',\n",
    "        'ROW': 'sum',\n",
    "        'S/O Win': 'sum',\n",
    "        'GF': 'sum',\n",
    "        'GA': 'sum',\n",
    "        'Shots/GP': 'mean',\n",
    "        'SA/GP': 'mean',\n",
    "        'FOW%': 'mean'\n",
    "    }).reset_index()  \n",
    "\n",
    "    return aggregated_df  \n",
    "\n",
    "# Apply function to both the home and away dataframes\n",
    "homeGamesDF = aggregation(homeGamesDF)\n",
    "awayGamesDF = aggregation(awayGamesDF)\n",
    "homeGamesDF.index = awayGamesDF.index\n",
    "team_column = homeGamesDF.pop('Team')\n",
    "\n",
    "# Select only numeric columns from both dataframes to use in subtraction\n",
    "numericHG = homeGamesDF.select_dtypes(include=['number'])\n",
    "numericAG = awayGamesDF.select_dtypes(include=['number'])\n",
    "\n",
    "# Perform the subtraction\n",
    "# A negative number means that the team's away stat is better than their home stat. A value == 0 means that the home and away performence are exactly the same.\n",
    "# If the number is positive, then the home stat is better than the away stat.\n",
    "haAggDF = numericHG - numericAG\n",
    "\n",
    "\n",
    "# Prepend the team column back into the dataframe\n",
    "differenceDF = pd.concat([team_column, haAggDF], axis=1)"
   ]
  },
  {
   "cell_type": "code",
   "execution_count": 5,
   "metadata": {},
   "outputs": [
    {
     "data": {
      "application/vnd.jupyter.widget-view+json": {
       "model_id": "b727f9f8211a4af0b41c8da599075a4f",
       "version_major": 2,
       "version_minor": 0
      },
      "text/plain": [
       "SelectMultiple(description='Teams', index=(16,), options=('Anaheim Ducks', 'Arizona Coyotes', 'Boston Bruins',…"
      ]
     },
     "metadata": {},
     "output_type": "display_data"
    },
    {
     "data": {
      "application/vnd.jupyter.widget-view+json": {
       "model_id": "58265156f14644d5a363918cdda1d785",
       "version_major": 2,
       "version_minor": 0
      },
      "text/plain": [
       "Dropdown(description='Stats', index=5, options=('W', 'L', 'OT', 'P', 'S/O Win', 'GF', 'GA', 'Shots/GP', 'SA/GP…"
      ]
     },
     "metadata": {},
     "output_type": "display_data"
    },
    {
     "data": {
      "application/vnd.jupyter.widget-view+json": {
       "model_id": "a6d1989759c04d8281b1357b99801f3b",
       "version_major": 2,
       "version_minor": 0
      },
      "text/plain": [
       "Output()"
      ]
     },
     "metadata": {},
     "output_type": "display_data"
    }
   ],
   "source": [
    "import matplotlib.pyplot as plt\n",
    "import ipywidgets as widgets\n",
    "from IPython.display import display, clear_output\n",
    "import seaborn as sns\n",
    "\n",
    "# Create team selector widget\n",
    "team_selector = widgets.SelectMultiple(\n",
    "    options=differenceDF['Team'].tolist(),\n",
    "    value=['Nashville Predators'], \n",
    "    description='Teams',\n",
    "    disabled=False\n",
    ")\n",
    "\n",
    "# Create stat selector widget\n",
    "stat_selector = widgets.Dropdown(\n",
    "    options=['W', 'L', 'OT', 'P', 'S/O Win', 'GF', 'GA', 'Shots/GP', 'SA/GP', 'FOW%'],\n",
    "    value='GF',\n",
    "    description='Stats'\n",
    ")\n",
    "\n",
    "# Create an output area for the plot\n",
    "output_area = widgets.Output()\n",
    "\n",
    "# Function to update the plot\n",
    "def update_plot(change=None):\n",
    "    with output_area:\n",
    "        output_area.clear_output(wait=True)  # Clear previous plot output\n",
    "        \n",
    "        # Get the selected teams and stats from the widgets\n",
    "        selected_teams = team_selector.value\n",
    "        selected_stat = stat_selector.value\n",
    "        \n",
    "        # Filter the dataframe based on selected teams\n",
    "        filtered_df = differenceDF[differenceDF['Team'].isin(selected_teams)]\n",
    "        \n",
    "        # Check if any teams are selected\n",
    "        if not filtered_df.empty:\n",
    "            # Create the bar chart\n",
    "            plt.figure(figsize=(12, 7))  # Increased figure size for clarity\n",
    "            \n",
    "            # Use a color palette from Seaborn\n",
    "            colors = sns.color_palette('Blues', len(filtered_df)) \n",
    "            \n",
    "            # Plot bars with the updated color palette and narrower width\n",
    "            bars = plt.bar(filtered_df['Team'], filtered_df[selected_stat], color=colors, width=0.5)\n",
    "            \n",
    "            # update X and Y labels\n",
    "            plt.xlabel(\"Team(s)\", fontsize=14)\n",
    "            plt.ylabel(selected_stat, fontsize=14)\n",
    "            \n",
    "            # Rotate x-axis ticks for improved readability\n",
    "            plt.xticks(rotation=90, fontsize=12, ha='center')  \n",
    "            \n",
    "            # Add gridlines along the y-axis for improved readability\n",
    "            plt.grid(axis='y', linestyle='--', alpha=0.6)\n",
    "            \n",
    "            # Add data labels above each bar\n",
    "            for bar in bars:\n",
    "                yval = bar.get_height()\n",
    "                plt.text(bar.get_x() + bar.get_width() / 2, yval, round(yval, 2), \n",
    "                         ha='center', va='bottom', fontsize=12, color='black')\n",
    "            \n",
    "            # Apply tight layout to avoid overlap of labels\n",
    "            plt.tight_layout()\n",
    "            \n",
    "            # Display the plot\n",
    "            plt.show()\n",
    "        else:\n",
    "            print(\"No teams selected.\")\n",
    "\n",
    "# Attach observers to the drop downs so that the graph updates on changed user input\n",
    "team_selector.observe(update_plot, names='value')\n",
    "stat_selector.observe(update_plot, names='value')\n",
    "\n",
    "# Display the dropdowns and the output area\n",
    "display(team_selector, stat_selector, output_area)\n",
    "\n",
    "# Plot clear/update\n",
    "update_plot()\n",
    "\n",
    "#NOTE: Graph does NOT render on GitHub due to interactiveness. The screenshots attatched below are examples"
    "# Of what the graphs may look like. In order to interact with the graph, download this notebook.
    "#NOTE: Stat Abbreviations Explained:\n",
    "# W - Wins\n",
    "# L - Losses\n",
    "# OT - Overtime Losses\n",
    "# P - Points Earned\n",
    "# S/O Win - Shootout Wins\n",
    "# GF - Goals For/Goals Scored\n",
    "# GA - Goals Against/Goals allowed\n",
    "# Shots/GP - Average number of shots per game\n",
    "# SA/GP - Average number of shots against per game\n",
    "# FOW% - Average of Face off win percentage\n",
    "\n",
    "#To Select More Than One Team: On Mac: CMD + left click on teams you wish to add to the graph"
   ]
  },
  {
   "cell_type": "code",
   "execution_count": null,
   "metadata": {},
   "outputs": [],
   "source": []
  },
  {
   "cell_type": "code",
   "execution_count": null,
   "metadata": {},
   "outputs": [],
   "source": []
  }
 ],
 "metadata": {
  "kernelspec": {
   "display_name": "Python 3",
   "language": "python",
   "name": "python3"
  },
  "language_info": {
   "codemirror_mode": {
    "name": "ipython",
    "version": 3
   },
   "file_extension": ".py",
   "mimetype": "text/x-python",
   "name": "python",
   "nbconvert_exporter": "python",
   "pygments_lexer": "ipython3",
   "version": "3.12.1"
  },
  "orig_nbformat": 4
 },
 "nbformat": 4,
 "nbformat_minor": 2
}
